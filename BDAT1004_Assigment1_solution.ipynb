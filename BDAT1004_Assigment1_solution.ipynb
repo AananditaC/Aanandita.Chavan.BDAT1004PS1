{
 "cells": [
  {
   "cell_type": "markdown",
   "id": "f190122d",
   "metadata": {},
   "source": [
    "# Question 1: What data type is each of the following?"
   ]
  },
  {
   "cell_type": "markdown",
   "id": "71c7d42a",
   "metadata": {},
   "source": [
    "##### C# code is executed in Visual Studio as the kernel was not available for C# in jupyter notebook "
   ]
  },
  {
   "cell_type": "markdown",
   "id": "2d6fa5c8",
   "metadata": {},
   "source": [
    "##### 1) 5"
   ]
  },
  {
   "cell_type": "code",
   "execution_count": 1,
   "id": "fc6e0682",
   "metadata": {},
   "outputs": [
    {
     "ename": "SyntaxError",
     "evalue": "invalid syntax (Temp/ipykernel_10044/3823267026.py, line 1)",
     "output_type": "error",
     "traceback": [
      "\u001b[1;36m  File \u001b[1;32m\"C:\\Users\\AANAND~1\\AppData\\Local\\Temp/ipykernel_10044/3823267026.py\"\u001b[1;36m, line \u001b[1;32m1\u001b[0m\n\u001b[1;33m    Console.WriteLine(5.GetType());\u001b[0m\n\u001b[1;37m                        ^\u001b[0m\n\u001b[1;31mSyntaxError\u001b[0m\u001b[1;31m:\u001b[0m invalid syntax\n"
     ]
    }
   ],
   "source": [
    "Console.WriteLine(5.GetType());"
   ]
  },
  {
   "cell_type": "markdown",
   "id": "acea93ed",
   "metadata": {},
   "source": [
    "###### Output: System.Int32\n",
    "###### Answer : data type: int"
   ]
  },
  {
   "cell_type": "markdown",
   "id": "e55d8767",
   "metadata": {},
   "source": [
    "##### 2) 5.0"
   ]
  },
  {
   "cell_type": "code",
   "execution_count": null,
   "id": "8cc22f6d",
   "metadata": {},
   "outputs": [],
   "source": [
    "var a = 5.0;\n",
    "Console.WriteLine(a.GetType());"
   ]
  },
  {
   "cell_type": "markdown",
   "id": "b91ae92f",
   "metadata": {},
   "source": [
    "##### 3) 5 > 1"
   ]
  },
  {
   "cell_type": "code",
   "execution_count": null,
   "id": "0663eb16",
   "metadata": {},
   "outputs": [],
   "source": [
    "var res = 5>2;\n",
    "Console.WriteLine(res.GetType());"
   ]
  },
  {
   "cell_type": "markdown",
   "id": "bd800b50",
   "metadata": {},
   "source": [
    "##### output: System.Boolean\n",
    "##### answer: boolean"
   ]
  },
  {
   "cell_type": "markdown",
   "id": "4f4ae1c6",
   "metadata": {},
   "source": [
    "##### 4) \"5\""
   ]
  },
  {
   "cell_type": "code",
   "execution_count": null,
   "id": "fd293fe8",
   "metadata": {},
   "outputs": [],
   "source": [
    "var res = \"5\";\n",
    "Console.WriteLine(res.GetType());"
   ]
  },
  {
   "cell_type": "markdown",
   "id": "97463b53",
   "metadata": {},
   "source": [
    "##### output: System.String\n",
    "##### answer: String"
   ]
  },
  {
   "cell_type": "markdown",
   "id": "0ed953c5",
   "metadata": {},
   "source": [
    "##### 5) 5 * 2"
   ]
  },
  {
   "cell_type": "code",
   "execution_count": null,
   "id": "4842ec4f",
   "metadata": {},
   "outputs": [],
   "source": [
    "var res = 5 * 2;\n",
    "Console.WriteLine(res.GetType());"
   ]
  },
  {
   "cell_type": "markdown",
   "id": "7147d8bb",
   "metadata": {},
   "source": [
    "##### output: System.Int32\n",
    "##### answer: int"
   ]
  },
  {
   "cell_type": "markdown",
   "id": "991d0e34",
   "metadata": {},
   "source": [
    "##### 6) \"5\" * 2"
   ]
  },
  {
   "cell_type": "code",
   "execution_count": null,
   "id": "8faf82fe",
   "metadata": {},
   "outputs": [],
   "source": [
    "var res = '5' * 2;\n",
    "Console.WriteLine(res+\"\\n\");\n",
    "Console.WriteLine(res.GetType());\n",
    "# var res = \"5\" * 2; gives error in visual studio"
   ]
  },
  {
   "cell_type": "markdown",
   "id": "4499e8d2",
   "metadata": {},
   "source": [
    "##### output: 106\n",
    "#####              System.Int32\n",
    "##### answer: int"
   ]
  },
  {
   "cell_type": "markdown",
   "id": "fe31b498",
   "metadata": {},
   "source": [
    "##### 7) \"5\" + \"2\""
   ]
  },
  {
   "cell_type": "code",
   "execution_count": null,
   "id": "5aae13a3",
   "metadata": {},
   "outputs": [],
   "source": [
    "var res = \"5\"+\"2\";\n",
    "Console.WriteLine(res+\"\\n\");\n",
    "Console.WriteLine(res.GetType());"
   ]
  },
  {
   "cell_type": "markdown",
   "id": "ac1290d2",
   "metadata": {},
   "source": [
    "##### output: 52\n",
    "\n",
    "##### System.String\n",
    "##### answer: string"
   ]
  },
  {
   "cell_type": "markdown",
   "id": "f8b99dac",
   "metadata": {},
   "source": [
    "##### 8)5 / 2"
   ]
  },
  {
   "cell_type": "code",
   "execution_count": null,
   "id": "d81b2836",
   "metadata": {},
   "outputs": [],
   "source": [
    "var res = 5 / 2;\n",
    "Console.WriteLine(res + \"\\n\");\n",
    "Console.WriteLine(res.GetType());"
   ]
  },
  {
   "cell_type": "markdown",
   "id": "dcf3ad1e",
   "metadata": {},
   "source": [
    "##### output: 2\n",
    "\n",
    "##### System.Int32\n",
    "##### answer: int"
   ]
  },
  {
   "cell_type": "markdown",
   "id": "f883ed26",
   "metadata": {},
   "source": [
    "##### 9) 5 % 2"
   ]
  },
  {
   "cell_type": "code",
   "execution_count": null,
   "id": "bb78f527",
   "metadata": {},
   "outputs": [],
   "source": [
    "var res = 5 % 2;\n",
    "Console.WriteLine(res + \"\\n\");\n",
    "Console.WriteLine(res.GetType());"
   ]
  },
  {
   "cell_type": "markdown",
   "id": "cfdc54d0",
   "metadata": {},
   "source": [
    "##### output: 1\n",
    "\n",
    "##### System.Int32\n",
    "##### answer: int"
   ]
  },
  {
   "cell_type": "markdown",
   "id": "601cd96d",
   "metadata": {},
   "source": [
    "##### 10)  {5, 2, 1}"
   ]
  },
  {
   "cell_type": "markdown",
   "id": "38c48422",
   "metadata": {},
   "source": [
    "##### answer: array"
   ]
  },
  {
   "cell_type": "markdown",
   "id": "523bef70",
   "metadata": {},
   "source": [
    "##### 11) 5 == 3"
   ]
  },
  {
   "cell_type": "code",
   "execution_count": null,
   "id": "b6fc155f",
   "metadata": {},
   "outputs": [],
   "source": [
    "var res = 5 == 3;\n",
    "Console.WriteLine(res + \"\\n\");\n",
    "Console.WriteLine(res.GetType());"
   ]
  },
  {
   "cell_type": "markdown",
   "id": "a286e73f",
   "metadata": {},
   "source": [
    "##### output: False\n",
    "\n",
    "##### System.Boolean\n",
    "\n",
    "#####  answer: boolean"
   ]
  },
  {
   "cell_type": "markdown",
   "id": "42f119f4",
   "metadata": {},
   "source": [
    "##### 12) Pi (the number)"
   ]
  },
  {
   "cell_type": "code",
   "execution_count": null,
   "id": "be4d160a",
   "metadata": {},
   "outputs": [],
   "source": [
    "var res = 3.1415926535897931;\n",
    "Console.WriteLine(res + \"\\n\");\n",
    "Console.WriteLine(res.GetType());"
   ]
  },
  {
   "cell_type": "markdown",
   "id": "177f28dc",
   "metadata": {},
   "source": [
    "##### output: 3.141592653589793\n",
    "\n",
    "##### System.Double\n",
    "\n",
    "##### answer : double"
   ]
  },
  {
   "cell_type": "markdown",
   "id": "d32c311a",
   "metadata": {},
   "source": [
    "# Question 2 : "
   ]
  },
  {
   "cell_type": "code",
   "execution_count": null,
   "id": "a3fc0284",
   "metadata": {},
   "outputs": [],
   "source": [
    "#task 1 to find number of letters in the word \"Supercalifragilisticexpialidocious\"\n",
    "string word = \"Supercalifragilisticexpialidocious\";\n",
    "Console.WriteLine(\"\\n Number of letters in {0} is {1}\", word, word.Length);"
   ]
  },
  {
   "cell_type": "markdown",
   "id": "bb7ac92f",
   "metadata": {},
   "source": [
    "##### output: Number of letters in Supercalifragilisticexpialidocious is 34"
   ]
  },
  {
   "cell_type": "code",
   "execution_count": null,
   "id": "79e79ed0",
   "metadata": {},
   "outputs": [],
   "source": [
    "#task2: Does 'Supercalifragilisticexpialidocious' contain 'ice' as a substring?\n",
    "string substring = \"ice\";\n",
    "Console.WriteLine(\"\\n Is {0} a substring of {1}: {2}\", substring, word, word.Contains(substring));"
   ]
  },
  {
   "cell_type": "markdown",
   "id": "f2d25a9d",
   "metadata": {},
   "source": [
    "##### output: Is ice a substring of Supercalifragilisticexpialidocious: True"
   ]
  },
  {
   "cell_type": "code",
   "execution_count": null,
   "id": "0735cb38",
   "metadata": {},
   "outputs": [],
   "source": [
    "#task 3: Which of the following words is the longest:\n",
    "string[] words = new string[3] { \"Supercalifragilisticexpialidocious\", \"Honorificabilitudinitatibus\", \"Bababadalgharaghtakamminarronnkonn\" };\n",
    "string largest = words[0];\n",
    "for (int i = 0; i < words.Length; ++i)\n",
    "{\n",
    "    if (words[i].Length > largest.Length)\n",
    "    {\n",
    "        largest = words[i];\n",
    "    }\n",
    "}\n",
    "Console.WriteLine($\"\\nLongest word is {largest}\");"
   ]
  },
  {
   "cell_type": "markdown",
   "id": "6db97ad7",
   "metadata": {},
   "source": [
    "##### output: Longest word is Supercalifragilisticexpialidocious"
   ]
  },
  {
   "cell_type": "code",
   "execution_count": null,
   "id": "60b20c4f",
   "metadata": {},
   "outputs": [],
   "source": [
    "#task 4: Which composer comes first in the dictionary. Which one comes last?\n",
    "List<string> composers = new List<string> { \"Berlioz\", \"Borodin\", \"Brian\", \"Bartok\", \"Bellini\", \"Buxtehude\", \"Bernstein\" };\n",
    "Console.WriteLine(\"\\nList of composers: \\n\");\n",
    "for (int i = 0; i < composers.Count; i++)\n",
    "{\n",
    "    Console.WriteLine(composers[i]);\n",
    "}\n",
    "composers.Sort();\n",
    "Console.WriteLine(\"\\nSorted list of composers: \\n\");\n",
    "for (int i = 0; i < composers.Count; i++)\n",
    "{\n",
    "    Console.WriteLine(composers[i]);\n",
    "}\n",
    "Console.WriteLine($\"\\nFirst composer is {composers[0]}\");\n",
    "Console.WriteLine($\"\\nLast composer is {composers[composers.Count - 1]}\");"
   ]
  },
  {
   "cell_type": "markdown",
   "id": "ff706aea",
   "metadata": {},
   "source": [
    "##### output: \n",
    "List of composers:\n",
    "\n",
    "Berlioz\n",
    "Borodin\n",
    "Brian\n",
    "Bartok\n",
    "Bellini\n",
    "Buxtehude\n",
    "Bernstein\n",
    "\n",
    "Sorted list of composers:\n",
    "\n",
    "Bartok\n",
    "Bellini\n",
    "Berlioz\n",
    "Bernstein\n",
    "Borodin\n",
    "Brian\n",
    "Buxtehude\n",
    "\n",
    "First composer is Bartok\n",
    "\n",
    "Last composer is Buxtehude"
   ]
  },
  {
   "cell_type": "markdown",
   "id": "1e3c6325",
   "metadata": {},
   "source": [
    "# Question 3:"
   ]
  },
  {
   "cell_type": "code",
   "execution_count": null,
   "id": "a32b728c",
   "metadata": {},
   "outputs": [],
   "source": [
    "#triangleArea is the function to calculate the area of the triangle. It takes the three sides of the triangle as parameters\n",
    "double triangleArea(int a, int b, int c)\n",
    "{\n",
    "    double s = (a + b + c) / 2;\n",
    "    double area = Math.Sqrt(s * (s - a) * (s - b) * (s - c));\n",
    "    return area;\n",
    "}\n",
    "#calling the function triangleArea()\n",
    "double area1 = triangleArea(2, 2, 2);\n",
    "Console.WriteLine($\"\\nArea of triangle is {area1}\");\n",
    "double area2 = triangleArea(5, 6, 7);\n",
    "Console.WriteLine($\"\\nArea of triangle is {area2}\");"
   ]
  },
  {
   "cell_type": "markdown",
   "id": "d8cff31c",
   "metadata": {},
   "source": [
    "##### output: \n",
    "Area of triangle is 1.7320508075688772\n",
    "\n",
    "Area of triangle is 14.696938456699069"
   ]
  },
  {
   "cell_type": "markdown",
   "id": "31316d5d",
   "metadata": {},
   "source": [
    "# Question 4"
   ]
  },
  {
   "cell_type": "code",
   "execution_count": null,
   "id": "e8fa4c10",
   "metadata": {},
   "outputs": [],
   "source": [
    "int[] numbers = new int[5];\n",
    "Console.WriteLine(\"Input 5 elements in the array: \\n\");\n",
    "for (int i = 0; i < numbers.Length; i++)\n",
    "{\n",
    "    Console.WriteLine($\"Element-{i}:\");\n",
    "    numbers[i] = int.Parse(Console.ReadLine());\n",
    "}\n",
    "List<int> even = new List<int>();\n",
    "List<int> odd = new List<int>();\n",
    "for (int i = 0; i < numbers.Length; i++)\n",
    "{\n",
    "    if (numbers[i] % 2 == 0)\n",
    "    {\n",
    "        even.Add(numbers[i]);\n",
    "    }\n",
    "    else\n",
    "    {\n",
    "        odd.Add(numbers[i]);\n",
    "    }\n",
    "}\n",
    "Console.WriteLine(\"The even elements are:\");\n",
    "for (int i = 0; i < even.Count; i++)\n",
    "{\n",
    "    Console.WriteLine(even[i]);\n",
    "}\n",
    "Console.WriteLine(\"The odd elements are:\");\n",
    "for (int i = 0; i < odd.Count; i++)\n",
    "{\n",
    "    Console.WriteLine(odd[i]);\n",
    "}"
   ]
  },
  {
   "cell_type": "markdown",
   "id": "b6baf901",
   "metadata": {},
   "source": [
    "##### output:\n",
    "##### Input 5 elements in the array:\n",
    "\n",
    "Element-0:\n",
    "25\n",
    "Element-1:\n",
    "47\n",
    "Element-2:\n",
    "42\n",
    "Element-3:\n",
    "56\n",
    "Element-4:\n",
    "32\n",
    "##### The even elements are:\n",
    "42\n",
    "56\n",
    "32\n",
    "##### The odd elements are:\n",
    "25\n",
    "47"
   ]
  },
  {
   "cell_type": "markdown",
   "id": "f51ee9d4",
   "metadata": {},
   "source": [
    "# Question 5: "
   ]
  },
  {
   "cell_type": "code",
   "execution_count": null,
   "id": "7f488389",
   "metadata": {},
   "outputs": [],
   "source": [
    "bool inside(double x, double y, double x1, double y1, double x2, double y2)\n",
    "{\n",
    "    if (x > x1 && x < x2)\n",
    "    {\n",
    "        if (y > y1 && y < y2)\n",
    "        {\n",
    "            return true;\n",
    "        }\n",
    "        else\n",
    "            return false;\n",
    "    }\n",
    "    else\n",
    "        return false;\n",
    "}\n",
    "#part a\n",
    "Boolean value1 = inside(1, 1, 0, 0, 2, 3);\n",
    "Console.WriteLine($\"The point is inside the rectangle: {value1}\");\n",
    "Boolean value2 = inside(-1, -1, 0, 0, 2, 3);\n",
    "Console.WriteLine($\"The point is inside the rectangle: {value2}\");\n",
    "#part b\n",
    "Boolean value3 = inside(1, 1, 0.3, 0.5, 1.1, 0.7);\n",
    "Boolean value4 = inside(1, 1, 0.5, 0.2, 1.1, 2);\n",
    "if (value3 == value4)\n",
    "{\n",
    "    Console.WriteLine(\"The point (1,1) lies in both of the rectangles\");\n",
    "}\n",
    "else\n",
    "    Console.WriteLine(\"The point (1,1) does not lie in both of the rectangles\");"
   ]
  },
  {
   "cell_type": "markdown",
   "id": "f9e573cc",
   "metadata": {},
   "source": [
    "##### output:\n",
    "##### The point is inside the rectangle: True\n",
    "##### The point is inside the rectangle: False\n",
    "##### The point (1,1) does not lie in both of the rectangles"
   ]
  },
  {
   "cell_type": "markdown",
   "id": "ab242ecd",
   "metadata": {},
   "source": [
    "# Question 6:"
   ]
  },
  {
   "cell_type": "code",
   "execution_count": 53,
   "id": "cc906cb2",
   "metadata": {},
   "outputs": [
    {
     "name": "stdout",
     "output_type": "stream",
     "text": [
      "please enter word here: HellO\n",
      "new word is  ellohay\n",
      "please enter word here: AANANDITA\n",
      "new word is  aananditaway\n"
     ]
    }
   ],
   "source": [
    "def pig(word):\n",
    "    lower=word.lower()\n",
    "    letter=lower[0]\n",
    "    vowels=[\"a\",\"e\",\"i\",\"o\",\"u\"]\n",
    "    if (letter in vowels):\n",
    "        new_word=lower+\"way\"\n",
    "        return new_word\n",
    "    else:\n",
    "        x=lower.replace(letter,\"\",1)\n",
    "        new_word=x+letter+\"ay\"\n",
    "        return new_word\n",
    "word1=input(\"please enter word here: \")\n",
    "print(\"new word is \",pig(word1))\n",
    "word2=input(\"please enter word here: \")\n",
    "print(\"new word is \",pig(word2))\n",
    "#pig(word2)"
   ]
  },
  {
   "cell_type": "markdown",
   "id": "96ff71f5",
   "metadata": {},
   "source": [
    "# Question 9:"
   ]
  },
  {
   "cell_type": "markdown",
   "id": "b33a11fc",
   "metadata": {},
   "source": [
    "##### Each of the following will cause an exception (an error). Identify what type of exception each will cause."
   ]
  },
  {
   "cell_type": "code",
   "execution_count": 83,
   "id": "9bfd75da",
   "metadata": {},
   "outputs": [
    {
     "ename": "TypeError",
     "evalue": "unsupported operand type(s) for +: 'int' and 'str'",
     "output_type": "error",
     "traceback": [
      "\u001b[1;31m---------------------------------------------------------------------------\u001b[0m",
      "\u001b[1;31mTypeError\u001b[0m                                 Traceback (most recent call last)",
      "\u001b[1;32mC:\\Users\\AANAND~1\\AppData\\Local\\Temp/ipykernel_10256/1678765637.py\u001b[0m in \u001b[0;36m<module>\u001b[1;34m\u001b[0m\n\u001b[1;32m----> 1\u001b[1;33m \u001b[0mprint\u001b[0m\u001b[1;33m(\u001b[0m\u001b[1;36m6\u001b[0m\u001b[1;33m+\u001b[0m\u001b[1;34m'a'\u001b[0m\u001b[1;33m)\u001b[0m\u001b[1;33m\u001b[0m\u001b[1;33m\u001b[0m\u001b[0m\n\u001b[0m",
      "\u001b[1;31mTypeError\u001b[0m: unsupported operand type(s) for +: 'int' and 'str'"
     ]
    }
   ],
   "source": [
    "print(6+'a')"
   ]
  },
  {
   "cell_type": "markdown",
   "id": "87346b0b",
   "metadata": {},
   "source": [
    "##### answer : TypeError"
   ]
  },
  {
   "cell_type": "code",
   "execution_count": 84,
   "id": "d162509d",
   "metadata": {},
   "outputs": [
    {
     "ename": "IndexError",
     "evalue": "list index out of range",
     "output_type": "error",
     "traceback": [
      "\u001b[1;31m---------------------------------------------------------------------------\u001b[0m",
      "\u001b[1;31mIndexError\u001b[0m                                Traceback (most recent call last)",
      "\u001b[1;32mC:\\Users\\AANAND~1\\AppData\\Local\\Temp/ipykernel_10256/2290211321.py\u001b[0m in \u001b[0;36m<module>\u001b[1;34m\u001b[0m\n\u001b[0;32m      1\u001b[0m \u001b[0mlist_value\u001b[0m\u001b[1;33m=\u001b[0m\u001b[1;33m[\u001b[0m\u001b[1;36m1\u001b[0m\u001b[1;33m,\u001b[0m\u001b[1;36m2\u001b[0m\u001b[1;33m,\u001b[0m\u001b[1;36m3\u001b[0m\u001b[1;33m,\u001b[0m\u001b[1;36m4\u001b[0m\u001b[1;33m,\u001b[0m\u001b[1;36m5\u001b[0m\u001b[1;33m,\u001b[0m\u001b[1;36m6\u001b[0m\u001b[1;33m,\u001b[0m\u001b[1;36m7\u001b[0m\u001b[1;33m,\u001b[0m\u001b[1;36m8\u001b[0m\u001b[1;33m,\u001b[0m\u001b[1;36m9\u001b[0m\u001b[1;33m,\u001b[0m\u001b[1;36m0\u001b[0m\u001b[1;33m]\u001b[0m\u001b[1;33m\u001b[0m\u001b[1;33m\u001b[0m\u001b[0m\n\u001b[1;32m----> 2\u001b[1;33m \u001b[0mprint\u001b[0m\u001b[1;33m(\u001b[0m\u001b[0mlist_value\u001b[0m\u001b[1;33m[\u001b[0m\u001b[1;36m12\u001b[0m\u001b[1;33m]\u001b[0m\u001b[1;33m)\u001b[0m\u001b[1;33m\u001b[0m\u001b[1;33m\u001b[0m\u001b[0m\n\u001b[0m",
      "\u001b[1;31mIndexError\u001b[0m: list index out of range"
     ]
    }
   ],
   "source": [
    "list_value=[1,2,3,4,5,6,7,8,9,0]\n",
    "print(list_value[12])"
   ]
  },
  {
   "cell_type": "markdown",
   "id": "c63d3ec9",
   "metadata": {},
   "source": [
    "##### answer: IndexError"
   ]
  },
  {
   "cell_type": "code",
   "execution_count": 85,
   "id": "61c10e3d",
   "metadata": {},
   "outputs": [
    {
     "ename": "ValueError",
     "evalue": "math domain error",
     "output_type": "error",
     "traceback": [
      "\u001b[1;31m---------------------------------------------------------------------------\u001b[0m",
      "\u001b[1;31mValueError\u001b[0m                                Traceback (most recent call last)",
      "\u001b[1;32mC:\\Users\\AANAND~1\\AppData\\Local\\Temp/ipykernel_10256/3755102649.py\u001b[0m in \u001b[0;36m<module>\u001b[1;34m\u001b[0m\n\u001b[0;32m      1\u001b[0m \u001b[1;32mimport\u001b[0m \u001b[0mmath\u001b[0m\u001b[1;33m\u001b[0m\u001b[1;33m\u001b[0m\u001b[0m\n\u001b[1;32m----> 2\u001b[1;33m \u001b[0mprint\u001b[0m\u001b[1;33m(\u001b[0m\u001b[0mmath\u001b[0m\u001b[1;33m.\u001b[0m\u001b[0msqrt\u001b[0m\u001b[1;33m(\u001b[0m\u001b[1;33m-\u001b[0m\u001b[1;36m1.0\u001b[0m\u001b[1;33m)\u001b[0m\u001b[1;33m)\u001b[0m\u001b[1;33m\u001b[0m\u001b[1;33m\u001b[0m\u001b[0m\n\u001b[0m",
      "\u001b[1;31mValueError\u001b[0m: math domain error"
     ]
    }
   ],
   "source": [
    "import math\n",
    "print(math.sqrt(-1.0))"
   ]
  },
  {
   "cell_type": "markdown",
   "id": "ff52e884",
   "metadata": {},
   "source": [
    "##### answer: ValueError"
   ]
  },
  {
   "cell_type": "code",
   "execution_count": 86,
   "id": "fea25c6a",
   "metadata": {},
   "outputs": [
    {
     "ename": "NameError",
     "evalue": "name 'x' is not defined",
     "output_type": "error",
     "traceback": [
      "\u001b[1;31m---------------------------------------------------------------------------\u001b[0m",
      "\u001b[1;31mNameError\u001b[0m                                 Traceback (most recent call last)",
      "\u001b[1;32mC:\\Users\\AANAND~1\\AppData\\Local\\Temp/ipykernel_10256/1353120783.py\u001b[0m in \u001b[0;36m<module>\u001b[1;34m\u001b[0m\n\u001b[1;32m----> 1\u001b[1;33m \u001b[0mprint\u001b[0m\u001b[1;33m(\u001b[0m\u001b[0mx\u001b[0m\u001b[1;33m)\u001b[0m\u001b[1;33m\u001b[0m\u001b[1;33m\u001b[0m\u001b[0m\n\u001b[0m",
      "\u001b[1;31mNameError\u001b[0m: name 'x' is not defined"
     ]
    }
   ],
   "source": [
    "print(x)"
   ]
  },
  {
   "cell_type": "markdown",
   "id": "808bf302",
   "metadata": {},
   "source": [
    "##### answer: NameError"
   ]
  },
  {
   "cell_type": "code",
   "execution_count": 88,
   "id": "27ef0443",
   "metadata": {},
   "outputs": [
    {
     "ename": "FileNotFoundError",
     "evalue": "[Errno 2] No such file or directory: 'xyz.txt'",
     "output_type": "error",
     "traceback": [
      "\u001b[1;31m---------------------------------------------------------------------------\u001b[0m",
      "\u001b[1;31mFileNotFoundError\u001b[0m                         Traceback (most recent call last)",
      "\u001b[1;32mC:\\Users\\AANAND~1\\AppData\\Local\\Temp/ipykernel_10256/439343395.py\u001b[0m in \u001b[0;36m<module>\u001b[1;34m\u001b[0m\n\u001b[1;32m----> 1\u001b[1;33m \u001b[0mopen\u001b[0m\u001b[1;33m(\u001b[0m\u001b[1;34m'xyz.txt'\u001b[0m\u001b[1;33m)\u001b[0m\u001b[1;33m\u001b[0m\u001b[1;33m\u001b[0m\u001b[0m\n\u001b[0m",
      "\u001b[1;31mFileNotFoundError\u001b[0m: [Errno 2] No such file or directory: 'xyz.txt'"
     ]
    }
   ],
   "source": [
    "open('xyz.txt')"
   ]
  },
  {
   "cell_type": "markdown",
   "id": "b81eaa5f",
   "metadata": {},
   "source": [
    "##### answer: FileNotFoundError"
   ]
  },
  {
   "cell_type": "markdown",
   "id": "67e195cd",
   "metadata": {},
   "source": [
    "# Question 10:"
   ]
  },
  {
   "cell_type": "code",
   "execution_count": 81,
   "id": "0d9d98c9",
   "metadata": {},
   "outputs": [
    {
     "name": "stdout",
     "output_type": "stream",
     "text": [
      "It's Raining Cats and Dogs\n",
      "Count of characters in the above text is \n",
      " dict_values([3, 1, 2, 2, 3, 3, 1, 1, 3, 2])\n"
     ]
    }
   ],
   "source": [
    "def frequencies():\n",
    "    #we have predefined text, alternatively we can also send this text as a function parameter\n",
    "    #text is converted to lower case and all the spaces are removed\n",
    "    text=\"It's Raining Cats and Dogs\"\n",
    "    print(text)\n",
    "    text=text.lower()\n",
    "    text=text.replace(\" \",\"\")\n",
    "    #initialize a dictionary\n",
    "    textcount=dict()\n",
    "    key='abcdefghijklmnopqrstuvwxyz'\n",
    "    #set the initial count as 0 for all characters\n",
    "    for i in range(len(key)):\n",
    "        textcount[key[i]]=0  \n",
    "    #iterate through the text and increment the count of characters as they appear    \n",
    "    for i in text:\n",
    "        if i in key:\n",
    "            textcount[i]+=1\n",
    "    #remove characters with count 0/characters that do not appear in the text        \n",
    "    for i in range(len(key)):\n",
    "        value=textcount.get(key[i])\n",
    "        if(value==0):\n",
    "            del textcount[key[i]]\n",
    "    print(\"Count of characters in the above text is \\n\",textcount.values())        \n",
    "    \n",
    "frequencies()        \n",
    "    "
   ]
  },
  {
   "cell_type": "markdown",
   "id": "114170ca",
   "metadata": {},
   "source": [
    "# Question 7:"
   ]
  },
  {
   "cell_type": "code",
   "execution_count": 130,
   "id": "2d13a663",
   "metadata": {},
   "outputs": [
    {
     "name": "stdout",
     "output_type": "stream",
     "text": [
      "number of patients for blood type AB 13\n",
      "number of patients for blood type B 1\n",
      "number of patients for blood type O 15\n",
      "number of patients for blood type A 15\n"
     ]
    }
   ],
   "source": [
    "def bldcount():\n",
    "    #open file\n",
    "    with open(r'bloodtype.txt') as f:\n",
    "        lines = f.readlines()                         \n",
    "        str = \"\"\n",
    "    for i in lines:\n",
    "        str += i\n",
    "    \n",
    "    bloodType = str.split(' ')\n",
    "    #create dictionary\n",
    "    count = dict()     \n",
    "    #increment number of blood types\n",
    "    for element in bloodType:\n",
    "        if element in count:\n",
    "            count[element] += 1                      \n",
    "        else:\n",
    "            count[element] = 1  \n",
    "    #print blood type count        \n",
    "    for element,num in count.items():\n",
    "        print('number of patients for blood type',element,num)\n",
    "        \n",
    "bldcount()"
   ]
  },
  {
   "cell_type": "markdown",
   "id": "f6d3d393",
   "metadata": {},
   "source": [
    "# Question 8:"
   ]
  },
  {
   "cell_type": "code",
   "execution_count": 140,
   "id": "a2ca67df",
   "metadata": {},
   "outputs": [
    {
     "data": {
      "text/html": [
       "<div>\n",
       "<style scoped>\n",
       "    .dataframe tbody tr th:only-of-type {\n",
       "        vertical-align: middle;\n",
       "    }\n",
       "\n",
       "    .dataframe tbody tr th {\n",
       "        vertical-align: top;\n",
       "    }\n",
       "\n",
       "    .dataframe thead th {\n",
       "        text-align: right;\n",
       "    }\n",
       "</style>\n",
       "<table border=\"1\" class=\"dataframe\">\n",
       "  <thead>\n",
       "    <tr style=\"text-align: right;\">\n",
       "      <th></th>\n",
       "      <th>0</th>\n",
       "      <th>1</th>\n",
       "      <th>2</th>\n",
       "    </tr>\n",
       "  </thead>\n",
       "  <tbody>\n",
       "    <tr>\n",
       "      <th>0</th>\n",
       "      <td>AUD</td>\n",
       "      <td>1.0345157</td>\n",
       "      <td>Australian Dollar</td>\n",
       "    </tr>\n",
       "    <tr>\n",
       "      <th>1</th>\n",
       "      <td>CHF</td>\n",
       "      <td>1.0237414</td>\n",
       "      <td>Swiss Franc</td>\n",
       "    </tr>\n",
       "    <tr>\n",
       "      <th>2</th>\n",
       "      <td>CNY</td>\n",
       "      <td>0.1550176</td>\n",
       "      <td>Chinese Yuan</td>\n",
       "    </tr>\n",
       "    <tr>\n",
       "      <th>3</th>\n",
       "      <td>DKK</td>\n",
       "      <td>0.1651442</td>\n",
       "      <td>Danish Krone</td>\n",
       "    </tr>\n",
       "    <tr>\n",
       "      <th>4</th>\n",
       "      <td>EUR</td>\n",
       "      <td>1.2296544</td>\n",
       "      <td>Euro</td>\n",
       "    </tr>\n",
       "    <tr>\n",
       "      <th>5</th>\n",
       "      <td>GBP</td>\n",
       "      <td>1.5550989</td>\n",
       "      <td>British Pound</td>\n",
       "    </tr>\n",
       "    <tr>\n",
       "      <th>6</th>\n",
       "      <td>HKD</td>\n",
       "      <td>0.1270207</td>\n",
       "      <td>Hong Kong Dollar</td>\n",
       "    </tr>\n",
       "    <tr>\n",
       "      <th>7</th>\n",
       "      <td>INR</td>\n",
       "      <td>0.0177643</td>\n",
       "      <td>Indian Rupee</td>\n",
       "    </tr>\n",
       "    <tr>\n",
       "      <th>8</th>\n",
       "      <td>JPY</td>\n",
       "      <td>0.01241401</td>\n",
       "      <td>Japanese Yen</td>\n",
       "    </tr>\n",
       "    <tr>\n",
       "      <th>9</th>\n",
       "      <td>MXN</td>\n",
       "      <td>0.0751848</td>\n",
       "      <td>Mexican Peso</td>\n",
       "    </tr>\n",
       "    <tr>\n",
       "      <th>10</th>\n",
       "      <td>MYR</td>\n",
       "      <td>0.3145411</td>\n",
       "      <td>Malaysian Ringgit</td>\n",
       "    </tr>\n",
       "    <tr>\n",
       "      <th>11</th>\n",
       "      <td>NOK</td>\n",
       "      <td>0.1677063</td>\n",
       "      <td>Norwegian Krone</td>\n",
       "    </tr>\n",
       "    <tr>\n",
       "      <th>12</th>\n",
       "      <td>NZD</td>\n",
       "      <td>0.8003591</td>\n",
       "      <td>New Zealand Dollar</td>\n",
       "    </tr>\n",
       "    <tr>\n",
       "      <th>13</th>\n",
       "      <td>PHP</td>\n",
       "      <td>0.0233234</td>\n",
       "      <td>Philippine Peso</td>\n",
       "    </tr>\n",
       "    <tr>\n",
       "      <th>14</th>\n",
       "      <td>SEK</td>\n",
       "      <td>0.148269</td>\n",
       "      <td>Swedish Krona</td>\n",
       "    </tr>\n",
       "    <tr>\n",
       "      <th>15</th>\n",
       "      <td>SGD</td>\n",
       "      <td>0.788871</td>\n",
       "      <td>Singapore Dollar</td>\n",
       "    </tr>\n",
       "    <tr>\n",
       "      <th>16</th>\n",
       "      <td>THB</td>\n",
       "      <td>0.0313789</td>\n",
       "      <td>Thai Baht</td>\n",
       "    </tr>\n",
       "  </tbody>\n",
       "</table>\n",
       "</div>"
      ],
      "text/plain": [
       "      0           1                   2\n",
       "0   AUD   1.0345157   Australian Dollar\n",
       "1   CHF   1.0237414         Swiss Franc\n",
       "2   CNY   0.1550176        Chinese Yuan\n",
       "3   DKK   0.1651442        Danish Krone\n",
       "4   EUR   1.2296544                Euro\n",
       "5   GBP   1.5550989       British Pound\n",
       "6   HKD   0.1270207    Hong Kong Dollar\n",
       "7   INR   0.0177643        Indian Rupee\n",
       "8   JPY  0.01241401        Japanese Yen\n",
       "9   MXN   0.0751848        Mexican Peso\n",
       "10  MYR   0.3145411   Malaysian Ringgit\n",
       "11  NOK   0.1677063     Norwegian Krone\n",
       "12  NZD   0.8003591  New Zealand Dollar\n",
       "13  PHP   0.0233234     Philippine Peso\n",
       "14  SEK    0.148269       Swedish Krona\n",
       "15  SGD    0.788871    Singapore Dollar\n",
       "16  THB   0.0313789           Thai Baht"
      ]
     },
     "execution_count": 140,
     "metadata": {},
     "output_type": "execute_result"
    }
   ],
   "source": [
    "import numpy as np\n",
    "import pandas as pd\n",
    "\n",
    "with open(r'currencies.txt', 'r') as f:\n",
    "    contents = f.readlines()  \n",
    "    \n",
    "for i in range(len(contents)):                                                        \n",
    "    contents[i] = contents[i].split('\\t')\n",
    "    contents[i][2] = contents[i][2].replace('\\n', '')  \n",
    "\n",
    "contents = pd.DataFrame(contents) \n",
    "contents"
   ]
  },
  {
   "cell_type": "code",
   "execution_count": 141,
   "id": "92af7705",
   "metadata": {},
   "outputs": [],
   "source": [
    "contents = contents.iloc[:,[0,1]] "
   ]
  },
  {
   "cell_type": "code",
   "execution_count": 142,
   "id": "420b0d90",
   "metadata": {},
   "outputs": [
    {
     "name": "stderr",
     "output_type": "stream",
     "text": [
      "C:\\Users\\AANAND~1\\AppData\\Local\\Temp/ipykernel_10256/3062786887.py:2: SettingWithCopyWarning: \n",
      "A value is trying to be set on a copy of a slice from a DataFrame\n",
      "\n",
      "See the caveats in the documentation: https://pandas.pydata.org/pandas-docs/stable/user_guide/indexing.html#returning-a-view-versus-a-copy\n",
      "  contents[1][i] = float(contents[1][i])\n"
     ]
    }
   ],
   "source": [
    "for i in range(len(contents)):\n",
    "    contents[1][i] = float(contents[1][i])"
   ]
  },
  {
   "cell_type": "code",
   "execution_count": 143,
   "id": "906c6889",
   "metadata": {},
   "outputs": [],
   "source": [
    "dict\n",
    "\n",
    "arr1= np.array(contents.iloc[:,0])              \n",
    "arr2 = np.array(contents.iloc[:,1])"
   ]
  },
  {
   "cell_type": "code",
   "execution_count": 144,
   "id": "77da46a1",
   "metadata": {},
   "outputs": [
    {
     "data": {
      "text/plain": [
       "numpy.ndarray"
      ]
     },
     "execution_count": 144,
     "metadata": {},
     "output_type": "execute_result"
    }
   ],
   "source": [
    "type(arr2)"
   ]
  },
  {
   "cell_type": "code",
   "execution_count": 145,
   "id": "11c08ec8",
   "metadata": {},
   "outputs": [],
   "source": [
    "dict = {}\n",
    "for i, j in zip(arr1,arr2):             \n",
    "    dict[i]= j\n",
    "def exchange(symbol, rate):\n",
    "    for i in dict:\n",
    "        if i == symbol:                             \n",
    "            multiplier = dict[i]\n",
    "            return(rate*multiplier)"
   ]
  },
  {
   "cell_type": "code",
   "execution_count": 146,
   "id": "61b787b2",
   "metadata": {},
   "outputs": [
    {
     "data": {
      "text/plain": [
       "1.241401"
      ]
     },
     "execution_count": 146,
     "metadata": {},
     "output_type": "execute_result"
    }
   ],
   "source": [
    "exchange('JPY',100)"
   ]
  },
  {
   "cell_type": "code",
   "execution_count": 149,
   "id": "3926a756",
   "metadata": {},
   "outputs": [
    {
     "name": "stdout",
     "output_type": "stream",
     "text": [
      "Please enter the symbol: EUR\n",
      "Please enter the amount you want to convert: 100\n"
     ]
    }
   ],
   "source": [
    "a = input(\"Please enter the symbol: \")\n",
    "b = float(input(\"Please enter the amount you want to convert: \"))"
   ]
  },
  {
   "cell_type": "code",
   "execution_count": 150,
   "id": "cf6c8f44",
   "metadata": {},
   "outputs": [
    {
     "name": "stdout",
     "output_type": "stream",
     "text": [
      "122.96544\n"
     ]
    }
   ],
   "source": [
    "print(exchange(a,b))"
   ]
  }
 ],
 "metadata": {
  "celltoolbar": "Raw Cell Format",
  "kernelspec": {
   "display_name": "Python 3 (ipykernel)",
   "language": "python",
   "name": "python3"
  },
  "language_info": {
   "codemirror_mode": {
    "name": "ipython",
    "version": 3
   },
   "file_extension": ".py",
   "mimetype": "text/x-python",
   "name": "python",
   "nbconvert_exporter": "python",
   "pygments_lexer": "ipython3",
   "version": "3.9.7"
  }
 },
 "nbformat": 4,
 "nbformat_minor": 5
}
